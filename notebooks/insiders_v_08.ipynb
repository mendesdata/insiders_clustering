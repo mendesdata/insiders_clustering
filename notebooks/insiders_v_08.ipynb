{
 "cells": [
  {
   "cell_type": "markdown",
   "id": "ca692fce-1aff-48ed-843f-fc9621caf9ff",
   "metadata": {},
   "source": [
    "# Insiders Clustering Project"
   ]
  },
  {
   "cell_type": "markdown",
   "id": "34f3ebbb-5069-4d59-aaef-3e49f611cb41",
   "metadata": {},
   "source": [
    "# 0.0 General Area"
   ]
  },
  {
   "cell_type": "markdown",
   "id": "0c7e06a8-ca58-4055-a5fb-486d4017ed87",
   "metadata": {},
   "source": [
    "## 0.1 Imports"
   ]
  },
  {
   "cell_type": "code",
   "execution_count": 3,
   "id": "3d2488ab-69bf-4b02-a262-dc0183f3f1ad",
   "metadata": {},
   "outputs": [],
   "source": [
    "import pandas  as pd\n",
    "import numpy   as np\n",
    "import seaborn as sns\n",
    "import inflection\n",
    "import warnings\n",
    "import re\n",
    "\n",
    "from matplotlib import pyplot        as plt\n",
    "from sklearn    import cluster       as c\n",
    "from sklearn    import metrics       as m\n",
    "from sklearn    import preprocessing as pp\n",
    "from sklearn    import decomposition as dd\n",
    "from sklearn    import ensemble      as en\n",
    "from plotly     import express       as px\n",
    "\n",
    "from sklearn.manifold    import TSNE\n",
    "#from ydata_profiling     import ProfileReport\n",
    "from yellowbrick.cluster import KElbowVisualizer, SilhouetteVisualizer\n",
    "\n",
    "import umap.umap_ as umap"
   ]
  },
  {
   "cell_type": "markdown",
   "id": "9c2fcfd8-aabd-46e7-81ee-cf916fb7f2f8",
   "metadata": {},
   "source": [
    "## 0.2 Support Functions"
   ]
  },
  {
   "cell_type": "code",
   "execution_count": 4,
   "id": "96d3a5fc-b454-45d8-abc5-5577448a1f21",
   "metadata": {},
   "outputs": [],
   "source": [
    "# data description functions\n",
    "def numerical_attributes( df ):\n",
    "    df_num_attributes = df.select_dtypes( include=['int64', 'float64'] )\n",
    "\n",
    "    # Central Tendency - mean, median\n",
    "    df_mean   = pd.DataFrame( df_num_attributes.apply( np.mean ) ).T\n",
    "    df_median = pd.DataFrame( df_num_attributes.apply( np.median ) ).T\n",
    "    \n",
    "    # Dispersion - min, max, range, std, skew, kurtosis\n",
    "    df_min =      pd.DataFrame( df_num_attributes.apply( np.min ) ).T\n",
    "    df_max =      pd.DataFrame( df_num_attributes.apply( np.max ) ).T\n",
    "    df_range =    pd.DataFrame( df_num_attributes.apply( lambda x: x.max() - x.min() ) ).T\n",
    "    df_std =      pd.DataFrame( df_num_attributes.apply( np.std ) ).T\n",
    "    df_skew =     pd.DataFrame( df_num_attributes.apply( lambda x: x.skew() ) ).T\n",
    "    df_kurtosis = pd.DataFrame( df_num_attributes.apply( lambda x: x.kurtosis() ) ).T\n",
    "    \n",
    "    # concatenate dataframes\n",
    "    df_numerical = pd.concat( [df_min, df_max, df_range, df_mean, df_median, df_std, df_skew, df_kurtosis] ).T.reset_index()\n",
    "    df_numerical.columns =  ['attributes', 'min', 'max', 'range', 'mean', 'median', 'std', 'skew', 'kurtosis'] \n",
    "    df_numerical\n",
    "    \n",
    "    return df_numerical\n",
    "\n",
    "def categorical_attributes( df ):\n",
    "    df_categorical = df.select_dtypes( exclude=['int64', 'float64', 'datetime64[ns]'] )\n",
    "\n",
    "    return df_categorical\n",
    "\n",
    "# data cleaning functions\n",
    "def rename_columns( df ):\n",
    "    title = lambda x: inflection.titleize( x )\n",
    "    snakecase = lambda x: inflection.underscore( x )\n",
    "    spaces = lambda x: x.replace(\" \", \"\")\n",
    "\n",
    "    cols_old = list( df.columns )\n",
    "    cols_old = list( map( title, cols_old ) )\n",
    "    cols_old = list( map( spaces, cols_old ) )\n",
    "    cols_new = list( map( snakecase, cols_old ) )\n",
    "    \n",
    "    df.columns = cols_new\n",
    "\n",
    "    df = df.rename( columns = {'customer' : 'customer_id' } )\n",
    "\n",
    "    return df\n",
    "\n",
    "# feature engineering functions\n",
    "def feature_creation( df ):\n",
    "    # creating gross revenue\n",
    "    df['gross_revenue'] = df['quantity'] * df['unit_price']    \n",
    "    \n",
    "    return df\n",
    "\n",
    "def jupyter_settings():\n",
    "    %matplotlib inline\n",
    "    #%pylab inline\n",
    "\n",
    "    plt.style.use( 'bmh' )\n",
    "    plt.rcParams['figure.figsize'] = [25, 12]\n",
    "    plt.rcParams['font.size'] = 24\n",
    "\n",
    "    #display( HTML( '<style>.container { width:100% !important; }</style>') )\n",
    "\n",
    "    pd.options.display.max_columns = None\n",
    "    pd.options.display.max_rows = None\n",
    "    pd.set_option( 'display.expand_frame_repr', False )\n",
    "\n",
    "    sns.set()\n",
    "\n",
    "jupyter_settings()\n",
    "warnings.filterwarnings( 'ignore' )"
   ]
  },
  {
   "cell_type": "markdown",
   "id": "7a3bc2b7-4176-41a1-bd1c-37a23c41240c",
   "metadata": {},
   "source": [
    "## 0.3 Load Data"
   ]
  },
  {
   "cell_type": "code",
   "execution_count": null,
   "id": "9e19e3b1-4c26-428d-818a-aebb57e713dd",
   "metadata": {},
   "outputs": [],
   "source": [
    "df_raw = pd.read_csv( '../data/Ecommerce.csv', low_memory=False, encoding='latin1')\n",
    "df_raw.head()"
   ]
  },
  {
   "cell_type": "markdown",
   "id": "2c9ad650-9ac6-4812-bcd3-5e4c1647d18b",
   "metadata": {},
   "source": [
    "# 1.0 Data Description"
   ]
  },
  {
   "cell_type": "code",
   "execution_count": null,
   "id": "08a26698-5e3e-49ec-b9e6-7143d9d9424d",
   "metadata": {},
   "outputs": [],
   "source": [
    "df1 = df_raw.copy()"
   ]
  },
  {
   "cell_type": "markdown",
   "id": "af4a2228-1f1b-4110-845a-7247b9de4d4d",
   "metadata": {},
   "source": [
    "## 1.1 Data Dimension"
   ]
  },
  {
   "cell_type": "code",
   "execution_count": null,
   "id": "11c11e40-3719-41fa-8038-7fb1b11430d1",
   "metadata": {},
   "outputs": [],
   "source": [
    "print(f'Number of rows: { df1.shape[0] } ')\n",
    "print(f'Number of cols: { df1.shape[1] } ')"
   ]
  },
  {
   "cell_type": "markdown",
   "id": "7c980b30-c02a-453a-8fed-ab63862c754d",
   "metadata": {},
   "source": [
    "## 1.2 List Data Types"
   ]
  },
  {
   "cell_type": "code",
   "execution_count": null,
   "id": "83636ccd-24d3-4eec-9441-f9e3596c9049",
   "metadata": {},
   "outputs": [],
   "source": [
    "df1.dtypes"
   ]
  },
  {
   "cell_type": "markdown",
   "id": "38390b0e-f179-4351-aafc-7d905493fc64",
   "metadata": {},
   "source": [
    "## 1.3 Descriptive Statistics"
   ]
  },
  {
   "cell_type": "code",
   "execution_count": null,
   "id": "3341576b-8fa7-46cb-be4a-9058e92209c4",
   "metadata": {},
   "outputs": [],
   "source": [
    "# identify and separate numerical and categorical attrributes\n",
    "df_numerical   = numerical_attributes( df1 )\n",
    "df_categorical = categorical_attributes( df1 )"
   ]
  },
  {
   "cell_type": "markdown",
   "id": "a468e57c-b9c1-4753-b5d2-569af981a09d",
   "metadata": {},
   "source": [
    "### 1.3.1 Numerical Attributes"
   ]
  },
  {
   "cell_type": "code",
   "execution_count": null,
   "id": "8c3addbb-417d-44b6-9e36-baa0bddaaddb",
   "metadata": {},
   "outputs": [],
   "source": [
    "df_numerical.head()"
   ]
  },
  {
   "cell_type": "markdown",
   "id": "382c9501-d37b-4973-9967-6a9b5724f009",
   "metadata": {},
   "source": [
    "### 1.3.2 Categorical Attributes"
   ]
  },
  {
   "cell_type": "code",
   "execution_count": null,
   "id": "8131ee16-f8b4-40c0-84cf-273457f050f8",
   "metadata": {},
   "outputs": [],
   "source": [
    "df_categorical.head()"
   ]
  },
  {
   "cell_type": "markdown",
   "id": "8eb8a66b-5053-4ad9-a30d-87a9ff87a0df",
   "metadata": {},
   "source": [
    "# 2.0 Data Cleaning"
   ]
  },
  {
   "cell_type": "code",
   "execution_count": null,
   "id": "385d31d7-c9b4-4221-9f15-d80063e53845",
   "metadata": {},
   "outputs": [],
   "source": [
    "df2 = df1.copy()"
   ]
  },
  {
   "cell_type": "markdown",
   "id": "7723a46e-ab66-453e-98f7-ad536365a06b",
   "metadata": {},
   "source": [
    "## 2.1 Rename Columns"
   ]
  },
  {
   "cell_type": "code",
   "execution_count": null,
   "id": "c18fcb6c-dbba-40ab-9a0b-ef13d3a76d59",
   "metadata": {},
   "outputs": [],
   "source": [
    "df2 = rename_columns( df2 )\n",
    "df2.head()"
   ]
  },
  {
   "cell_type": "markdown",
   "id": "1c6cb5a4-bd67-4299-8886-b789fcdc878d",
   "metadata": {},
   "source": [
    "## 2.2 Drop Columns"
   ]
  },
  {
   "cell_type": "code",
   "execution_count": null,
   "id": "0364d186-9b65-469c-8391-d40079438a4b",
   "metadata": {},
   "outputs": [],
   "source": [
    "df2 = df2.drop( 'unnamed:8', axis=1 )\n",
    "df2.head()"
   ]
  },
  {
   "cell_type": "markdown",
   "id": "8573c2f4-672e-4f20-afec-53b4af5b2f89",
   "metadata": {},
   "source": [
    "## 2.3 Check N/A"
   ]
  },
  {
   "cell_type": "code",
   "execution_count": null,
   "id": "c0cb3a1d-bed9-4f8a-b37e-131f07ff8354",
   "metadata": {},
   "outputs": [],
   "source": [
    "# number of rows with NA values by column\n",
    "df1.isna().sum()"
   ]
  },
  {
   "cell_type": "markdown",
   "id": "5300eb36-f0dd-44f9-9e10-feac8bbcc5c5",
   "metadata": {},
   "source": [
    "## 2.4 Fillout N/A"
   ]
  },
  {
   "cell_type": "markdown",
   "id": "25a9f2f7-a4d8-4947-9222-819296461dc2",
   "metadata": {},
   "source": [
    "### customer_id"
   ]
  },
  {
   "cell_type": "code",
   "execution_count": null,
   "id": "d2287395-e609-40e0-9c24-72c6ba373faa",
   "metadata": {},
   "outputs": [],
   "source": [
    "#df2['customer_id'].max() = 1828\n",
    "\n",
    "df_missing = df2[df2['customer_id'].isna()]\n",
    "df_missing = pd.DataFrame( df_missing['invoice_no'].drop_duplicates() )\n",
    "df_missing['customer_id'] = np.arange( 1900, 1900+len( df_missing ), 1 )\n",
    "\n",
    "df_missing.head()"
   ]
  },
  {
   "cell_type": "code",
   "execution_count": null,
   "id": "bc2543a9-2df6-48f0-93ad-0bc069d3bf59",
   "metadata": {},
   "outputs": [],
   "source": [
    "# merging with missing customer_id dataframe\n",
    "df2 = pd.merge( df2, df_missing, how='left', on='invoice_no' )\n",
    "df2.head()"
   ]
  },
  {
   "cell_type": "code",
   "execution_count": null,
   "id": "830b2e25-9851-4645-a1b6-56850db030ba",
   "metadata": {},
   "outputs": [],
   "source": [
    "# apply coalesce\n",
    "df2['customer_id'] = df2['customer_id_x'].combine_first( df2['customer_id_y'] )\n",
    "\n",
    "# drop extra columns\n",
    "df2 =df2.drop( columns=['customer_id_x', 'customer_id_y'], axis=1 )\n",
    "\n",
    "df2.head()"
   ]
  },
  {
   "cell_type": "code",
   "execution_count": null,
   "id": "4162ff9d-7db0-48e0-8e12-48be733b3889",
   "metadata": {},
   "outputs": [],
   "source": [
    "# re-check n/a values\n",
    "df2.isna().sum()"
   ]
  },
  {
   "cell_type": "markdown",
   "id": "85a8bb7c-355f-4024-a418-1ebe153c1e7e",
   "metadata": {},
   "source": [
    "## 2.5 Drop N/A Values"
   ]
  },
  {
   "cell_type": "code",
   "execution_count": null,
   "id": "c5401745-bd79-4a35-bed0-fd7b69c2d6bf",
   "metadata": {},
   "outputs": [],
   "source": [
    "df2 = df2.dropna( subset = ['description', 'customer_id'] )\n",
    "\n",
    "print(f'Removed data : { round( 1 - ( df2.shape[0] / df_raw.shape[0] ), 2) } ') \n",
    "print(f'Number of rows Updated: { df2.shape[0] } ')"
   ]
  },
  {
   "cell_type": "markdown",
   "id": "bddb8f9a-3faf-4198-bd77-ce90e7367278",
   "metadata": {},
   "source": [
    "## 2.6 Change Data Types"
   ]
  },
  {
   "cell_type": "code",
   "execution_count": null,
   "id": "be54e4fb-71c2-49d9-a149-092028cc6e83",
   "metadata": {},
   "outputs": [],
   "source": [
    "df2['invoice_date'] = pd.to_datetime( df2['invoice_date'] )\n",
    "df2.head()"
   ]
  },
  {
   "cell_type": "markdown",
   "id": "fe8a7fb5-e937-4d1b-8fc4-43031365d24c",
   "metadata": {},
   "source": [
    "## 2.7 Remove Rows"
   ]
  },
  {
   "cell_type": "markdown",
   "id": "d7e38b12-f6da-48a4-b0db-a0a65ece14ee",
   "metadata": {},
   "source": [
    "### invoice_no"
   ]
  },
  {
   "cell_type": "code",
   "execution_count": null,
   "id": "99dab29b-dfd6-44ee-85f4-cea714e65d45",
   "metadata": {},
   "outputs": [],
   "source": [
    "# identify invoice_no with letters\n",
    "index = df2['invoice_no'].apply( lambda x : bool( re.search( '[^0-9]+', x ) ) )\n",
    "df_letter_invoices =  df2.loc[ index, :] \n",
    "df_letter_invoices.head()"
   ]
  },
  {
   "cell_type": "markdown",
   "id": "a635f272-66a3-44b0-9707-8381b65d4cfd",
   "metadata": {},
   "source": [
    "### stock_code"
   ]
  },
  {
   "cell_type": "code",
   "execution_count": null,
   "id": "2fab95a6-6e09-4641-8b8f-6215db101d71",
   "metadata": {
    "scrolled": true
   },
   "outputs": [],
   "source": [
    "# identify stock_code with only letters\n",
    "index = df2['stock_code'].apply( lambda x : bool( re.search( '^[a-zA-Z]+$', x ) ) )\n",
    "df_letter_stock_code = df2.loc[ index, :] \n",
    "\n",
    "list_stock_code = df_letter_stock_code['stock_code'].unique()\n",
    "print(f'Rows removed: { len( df2[ df2[\"stock_code\"].isin( list_stock_code ) ] ) } ' )\n",
    "\n",
    "df2 = df2[ ~df2['stock_code'].isin( list_stock_code ) ]"
   ]
  },
  {
   "cell_type": "code",
   "execution_count": null,
   "id": "fef1fe16-911b-4be5-8131-acb39c4be643",
   "metadata": {},
   "outputs": [],
   "source": [
    "list_stock_code = df_letter_stock_code['stock_code'].unique()\n",
    "print(f'Rows removed: { len( df2[ df2[\"stock_code\"].isin( list_stock_code ) ] ) } ' )\n",
    "\n",
    "df2 = df2[ ~df2['stock_code'].isin( list_stock_code ) ]"
   ]
  },
  {
   "cell_type": "markdown",
   "id": "72bbfffd-2fa4-4c48-8486-78cde0fb7163",
   "metadata": {},
   "source": [
    "### unit_price"
   ]
  },
  {
   "cell_type": "code",
   "execution_count": null,
   "id": "1bf2b305-23fa-4cdb-a651-bd7da63610e3",
   "metadata": {},
   "outputs": [],
   "source": [
    "# removing rows when unit_price < 0.04\n",
    "print(f'Rows removed: { len( df2[ df2[\"unit_price\"] < 0.04] ) } ' )\n",
    "df2 = df2[ df2['unit_price'] >= 0.04]"
   ]
  },
  {
   "cell_type": "markdown",
   "id": "87bc3694-e577-4558-8ac2-d3f8cb68fc78",
   "metadata": {},
   "source": [
    "### country"
   ]
  },
  {
   "cell_type": "code",
   "execution_count": null,
   "id": "e15d9881-0d25-46d6-afe2-54435e6c9bf4",
   "metadata": {},
   "outputs": [],
   "source": [
    "df2['country'].unique()"
   ]
  },
  {
   "cell_type": "code",
   "execution_count": null,
   "id": "ff5fdb17-c89b-4756-b3ac-38e47b1b911e",
   "metadata": {},
   "outputs": [],
   "source": [
    "# removing rows where are no contries\n",
    "print(f'Rows removed: { len( df2[ df2[\"country\"].isin( [\"European Community\", \"Unspecified\"] ) ] ) } ' )\n",
    "df2 = df2[ ~df2['country'].isin( ['European Community', 'Unspecified'] ) ]"
   ]
  },
  {
   "cell_type": "markdown",
   "id": "014a40e7-c2ea-4911-adda-b9beaf8ff95f",
   "metadata": {},
   "source": [
    "## 2.8 Separate original dataset in two: purchases and returns"
   ]
  },
  {
   "cell_type": "code",
   "execution_count": null,
   "id": "6d181fa1-4d6c-4b60-9882-5708db84cf16",
   "metadata": {},
   "outputs": [],
   "source": [
    "df_returns   = df2[ df2['quantity'] < 0]\n",
    "df_purchases = df2[ df2['quantity'] > 0]"
   ]
  },
  {
   "cell_type": "markdown",
   "id": "3b372f69-6d7e-40ba-b40b-220e1cf67f4b",
   "metadata": {},
   "source": [
    "# 3.0 Feature Engineering"
   ]
  },
  {
   "cell_type": "code",
   "execution_count": null,
   "id": "cb693e7b-b6b9-4e3e-933f-d00c8dda91e8",
   "metadata": {},
   "outputs": [],
   "source": [
    "df3 = df_purchases.copy()"
   ]
  },
  {
   "cell_type": "markdown",
   "id": "81f660b4-d8dd-44b2-9e9e-4d08a61e01a6",
   "metadata": {},
   "source": [
    "## 3.1 Feature Creation"
   ]
  },
  {
   "cell_type": "code",
   "execution_count": null,
   "id": "c3cf0c68-407d-4609-bf24-e035a63bc716",
   "metadata": {},
   "outputs": [],
   "source": [
    "def feature_creation( df, df_returns ):\n",
    "    # creating gross revenue\n",
    "    df['gross_revenue'] = df['quantity'] * df['unit_price']    \n",
    "\n",
    "    # creating customer dataframe\n",
    "    df_customer = df.drop( columns= ['invoice_no', 'stock_code', 'description', 'quantity', \n",
    "                                      'invoice_date', 'unit_price', 'country', 'gross_revenue'], axis=1).drop_duplicates( ignore_index=True )\n",
    "\n",
    "    # creating customer monetary dataframe - amount of purchases\n",
    "    df_monetary = df[['customer_id', 'gross_revenue']].groupby('customer_id').sum().reset_index()\n",
    "\n",
    "    # creating customer frequency dataframe - number of purchases\n",
    "    df_frequency = df[['customer_id', 'invoice_no']].groupby('customer_id').nunique().reset_index()\n",
    "\n",
    "    # creating customer recency dataframe - number of days since last purchase\n",
    "    max_invoice_date = df['invoice_date'].max()\n",
    "\n",
    "    df_recency = df[['customer_id', 'invoice_date']].groupby('customer_id').max().reset_index()\n",
    "    df_recency['recency_days'] =  ( max_invoice_date - df_recency['invoice_date'] ).dt.days\n",
    "    df_recency = df_recency.drop( 'invoice_date', axis=1 )\n",
    "\n",
    "    # creating average customer ticket dataframe\n",
    "    df_avg_ticket = ( df[['customer_id', 'gross_revenue']]\n",
    "                        .groupby('customer_id')\n",
    "                        .mean()\n",
    "                        .reset_index()\n",
    "                        .rename( columns={ 'gross_revenue' : 'avg_ticket' } ) )\n",
    "\n",
    "    # creating quantity products purchased dataframe\n",
    "    df_prod_purchased = ( df[['customer_id', 'quantity']]\n",
    "                         .groupby('customer_id')\n",
    "                         .count()\n",
    "                         .reset_index()\n",
    "                         .rename( columns= {'quantity' : 'qtt_prod_purchased' } ) )\n",
    "\n",
    "    # creating purchase frequency dataframe = qtt_purchases / range_days\n",
    "    df_aux = ( df[['customer_id', 'invoice_no', 'invoice_date']].drop_duplicates()\n",
    "                                                                .groupby( 'customer_id' )\n",
    "                                                                .agg( max_ =  ( 'invoice_date', 'max' ),\n",
    "                                                                      min_ =  ( 'invoice_date', 'min' ),\n",
    "                                                                      days_ = ( 'invoice_date', lambda x : ( x.max() - x.min() ).days + 1),\n",
    "                                                                      buys_ = ( 'invoice_no', 'count' ) ) ).reset_index()\n",
    "    # calculate purchase frequency \n",
    "    df_aux['purchase_frequency'] = df_aux[['buys_', 'days_']].apply( lambda x : x['buys_'] / x['days_'] if x['days_'] != 0 else 0, axis=1 )\n",
    "    df_purc_freq = df_aux[['customer_id', 'purchase_frequency']]\n",
    "\n",
    "    # number of returns\n",
    "    df_returns = df_returns[['customer_id', 'quantity']].groupby( 'customer_id' ).sum().reset_index().rename( columns={ 'quantity' : 'qtt_returns' } )\n",
    "    df_returns['qtt_returns'] = abs( df_returns['qtt_returns'] )\n",
    "\n",
    "    # basket size - quantity\n",
    "    df_bsize_quantity = ( df_purchases[['customer_id', 'invoice_no', 'quantity']]\n",
    "                                .groupby('customer_id')\n",
    "                                .agg( n_purchases=( 'invoice_no', 'nunique' ),\n",
    "                                      n_products=( 'quantity', 'sum' ) )\n",
    "                                .reset_index() )\n",
    "\n",
    "    df_bsize_quantity['avg_bsize_quantity'] = df_bsize_quantity['n_products'] / df_bsize_quantity['n_purchases'] \n",
    "    df_bsize_quantity = df_bsize_quantity.drop( columns=['n_products', 'n_purchases'], axis=1 )\n",
    "\n",
    "    # basket size - variety\n",
    "    df_bsize_variety = ( df_purchases[['customer_id', 'invoice_no', 'stock_code']]\n",
    "                                    .groupby('customer_id')\n",
    "                                    .agg( n_purchases=( 'invoice_no', 'nunique' ),\n",
    "                                          n_products=( 'stock_code', 'nunique' ) )\n",
    "                                    .reset_index() )\n",
    "    \n",
    "    df_bsize_variety['avg_bsize_variety'] = df_bsize_variety['n_products'] / df_bsize_variety['n_purchases'] \n",
    "    df_bsize_variety = df_bsize_variety.drop( columns=['n_products', 'n_purchases'], axis=1)\n",
    "\n",
    "    # merging customer dataframes\n",
    "    df_customer = pd.merge( df_customer, df_recency,         how='left', on='customer_id' )\n",
    "    df_customer = pd.merge( df_customer, df_frequency,       how='left', on='customer_id' )\n",
    "    df_customer = pd.merge( df_customer, df_monetary,        how='left', on='customer_id' )\n",
    "    df_customer = pd.merge( df_customer, df_avg_ticket,      how='left', on='customer_id' )\n",
    "    df_customer = pd.merge( df_customer, df_prod_purchased,  how='left', on='customer_id' )\n",
    "    df_customer = pd.merge( df_customer, df_purc_freq,       how='left', on='customer_id' )\n",
    "    df_customer = pd.merge( df_customer, df_returns,         how='left', on='customer_id' )\n",
    "    df_customer = pd.merge( df_customer, df_bsize_quantity,  how='left', on='customer_id' )\n",
    "    df_customer = pd.merge( df_customer, df_bsize_variety,   how='left', on='customer_id' )\n",
    "\n",
    "    df_customer.loc[ df_customer['qtt_returns'].isna(), 'qtt_returns'] = 0\n",
    "\n",
    "    return df_customer\n",
    "    "
   ]
  },
  {
   "cell_type": "code",
   "execution_count": null,
   "id": "a1c806c5-d093-4fc5-ba96-05fff1848eeb",
   "metadata": {},
   "outputs": [],
   "source": [
    "df3 = feature_creation( df3, df_returns )\n",
    "df3.head()"
   ]
  },
  {
   "cell_type": "code",
   "execution_count": null,
   "id": "a5c41006-a6c2-4811-a903-3b73c41ff7a5",
   "metadata": {},
   "outputs": [],
   "source": [
    "df3.isna().sum()"
   ]
  },
  {
   "cell_type": "code",
   "execution_count": null,
   "id": "72406301-11db-4510-a203-113f8c5da728",
   "metadata": {},
   "outputs": [],
   "source": [
    "# average recency days\n",
    "df2 = df_purchases.copy()\n",
    "df_aux = df2[['customer_id', 'invoice_date']].drop_duplicates().sort_values( ['customer_id', 'invoice_date'], ascending=[False, False] )\n",
    "df_aux['next_customer_id']  = df_aux['customer_id'].shift()\n",
    "df_aux['next_invoice_date'] = df_aux['invoice_date'].shift()\n",
    "df_aux['avg_recency_days']  = df_aux.apply( lambda x : ( x['next_invoice_date'] - x['invoice_date'] ).days if x['customer_id'] == x['next_customer_id'] \n",
    "                                            else np.nan, axis=1 )\n",
    "\n",
    "df_aux.head(10)\n"
   ]
  },
  {
   "cell_type": "markdown",
   "id": "95206916-3bb2-4fd5-9dda-720e7d1e18b0",
   "metadata": {},
   "source": [
    "# 4.0 Exploratory Data Analysis"
   ]
  },
  {
   "cell_type": "code",
   "execution_count": null,
   "id": "7dca03d6-4a08-4ece-9a13-2280fab015a0",
   "metadata": {},
   "outputs": [],
   "source": [
    "df4 = df3.copy()"
   ]
  },
  {
   "cell_type": "markdown",
   "id": "01624bc3-cb2e-4fbe-92f1-1c8cdcba9690",
   "metadata": {},
   "source": [
    "## 4.1 Univariate Analysis"
   ]
  },
  {
   "cell_type": "code",
   "execution_count": null,
   "id": "0708d479-fb37-4e99-9910-2c66f8229a27",
   "metadata": {},
   "outputs": [],
   "source": [
    "profile = ProfileReport(df4, title=\"EDA - Insiders Clustering\")\n",
    "profile.to_file('eda_insiders_clustering_v_01.html')"
   ]
  },
  {
   "cell_type": "markdown",
   "id": "6a9e3038-5142-48a5-98ba-956a07966734",
   "metadata": {},
   "source": [
    "**Notes**\n",
    "1. Frequency has low variance\n",
    "2. Avg Ticket has low variance"
   ]
  },
  {
   "cell_type": "markdown",
   "id": "a94557b8-2359-4dd3-a241-c639da626012",
   "metadata": {},
   "source": [
    "## 4.2 Bivariate Analysis"
   ]
  },
  {
   "cell_type": "code",
   "execution_count": null,
   "id": "da298751-dd64-45e9-aadb-cb72580e7655",
   "metadata": {},
   "outputs": [],
   "source": [
    "df4_aux = df4.drop( ['customer_id'], axis=1 )\n",
    "\n",
    "#plt.figure( figsize=(25,12) )\n",
    "sns.pairplot( df4_aux )\n",
    "\n",
    "#df_viz = df9.drop( 'customer_id', axis=1 )\n",
    "#sns.pairplot( df_viz, hue='cluster');"
   ]
  },
  {
   "cell_type": "code",
   "execution_count": null,
   "id": "a4a5311c-0a91-4dd2-bbb7-1a6d2b75cb2e",
   "metadata": {},
   "outputs": [],
   "source": []
  },
  {
   "cell_type": "code",
   "execution_count": null,
   "id": "afc90b0f-1e75-4f10-bb9f-495bd9605f55",
   "metadata": {},
   "outputs": [],
   "source": [
    "df4_aux.head()"
   ]
  },
  {
   "cell_type": "markdown",
   "id": "d3e9f21a-fae4-40ed-b14b-3204e7ebb901",
   "metadata": {},
   "source": [
    "## 4.3 Study of Space"
   ]
  },
  {
   "cell_type": "code",
   "execution_count": null,
   "id": "6d47cdc2-00ca-4d6d-9878-c7c00291101e",
   "metadata": {},
   "outputs": [],
   "source": [
    "df_space = df4.drop( ['customer_id'], axis=1 )\n",
    "\n",
    "mm = pp.MinMaxScaler()\n",
    "\n",
    "df_space['recency_days']       = mm.fit_transform( df_space[['recency_days']] )\n",
    "df_space['invoice_no']         = mm.fit_transform( df_space[['invoice_no']] ) \n",
    "df_space['gross_revenue']      = mm.fit_transform( df_space[['gross_revenue']] )\n",
    "df_space['avg_ticket']         = mm.fit_transform( df_space[['avg_ticket']] )\n",
    "df_space['qtt_prod_purchased'] = mm.fit_transform( df_space[['qtt_prod_purchased']] )\n",
    "df_space['purchase_frequency'] = mm.fit_transform( df_space[['purchase_frequency']] )\n",
    "df_space['qtt_returns']        = mm.fit_transform( df_space[['qtt_returns']] )\n",
    "df_space['avg_bsize_quantity'] = mm.fit_transform( df_space[['avg_bsize_quantity']] )\n",
    "df_space['avg_bsize_variety']  = mm.fit_transform( df_space[['avg_bsize_variety']] )\n",
    "\n",
    "df_space.head()"
   ]
  },
  {
   "cell_type": "code",
   "execution_count": null,
   "id": "4d8b5bf1-c868-4752-af9e-62f8a2627015",
   "metadata": {},
   "outputs": [],
   "source": [
    "df_space.head()"
   ]
  },
  {
   "cell_type": "markdown",
   "id": "52e822e6-64f7-42bb-9e4d-deb49919d685",
   "metadata": {},
   "source": [
    "### 4.3.1 PCA"
   ]
  },
  {
   "cell_type": "code",
   "execution_count": null,
   "id": "a837ebc1-ec4d-4b26-9417-d507aa4c20fb",
   "metadata": {},
   "outputs": [],
   "source": [
    "# PCA defined by numers of features\n",
    "pca = dd.PCA( n_components=df_space.shape[1] )\n",
    "principal_components = pca.fit_transform( df_space )\n",
    "\n",
    "# plot explained variable\n",
    "features = range( pca.n_components_ )\n",
    "plt.bar( features, pca.explained_variance_ratio_, color='black' );\n"
   ]
  },
  {
   "cell_type": "code",
   "execution_count": null,
   "id": "9306baa8-fb5b-4687-8062-25ad63a0b1d8",
   "metadata": {},
   "outputs": [],
   "source": [
    "# creating dataframe with pca components\n",
    "df_pca = pd.DataFrame( principal_components )\n",
    "\n",
    "sns.scatterplot( x=0, y=1, data=df_pca );"
   ]
  },
  {
   "cell_type": "markdown",
   "id": "f24406b2-322e-4b4f-8651-6cee9b0f2539",
   "metadata": {},
   "source": [
    "### 4.3.2 UMAP"
   ]
  },
  {
   "cell_type": "code",
   "execution_count": null,
   "id": "70cef587-a9aa-4ceb-9df8-78af76a6ba76",
   "metadata": {},
   "outputs": [],
   "source": [
    "reducer = umap.UMAP( random_state=42 )\n",
    "embedding = reducer.fit_transform( df_space )\n",
    "\n",
    "# embedding\n",
    "df_pca['embedding_x'] = embedding[:,0]\n",
    "df_pca['embedding_y'] = embedding[:,1]\n",
    "\n",
    "# plot UMAP\n",
    "sns.scatterplot( x='embedding_x', \n",
    "                 y='embedding_y',\n",
    "                 data=df_pca );"
   ]
  },
  {
   "cell_type": "markdown",
   "id": "cd8a1926-587a-4423-8c4f-7a86444cf88e",
   "metadata": {},
   "source": [
    "### 4.3.3 t-SNE"
   ]
  },
  {
   "cell_type": "code",
   "execution_count": null,
   "id": "5dac7f61-7d82-4cda-b91b-8f03c16202be",
   "metadata": {},
   "outputs": [],
   "source": [
    "reducer =    TSNE( n_components=2, random_state=42, n_jobs=-1 )\n",
    "embedding = reducer.fit_transform( df_space )\n",
    "\n",
    "# embedding\n",
    "df_pca['embedding_x'] = embedding[:,0]\n",
    "df_pca['embedding_y'] = embedding[:,1]\n",
    "\n",
    "# plot UMAP\n",
    "sns.scatterplot( x='embedding_x', \n",
    "                 y='embedding_y',\n",
    "                 data=df_pca );"
   ]
  },
  {
   "cell_type": "markdown",
   "id": "46b52714-c780-4c26-b627-4a721172c6a9",
   "metadata": {},
   "source": [
    "### 4.4.4 Tree-Based Embedding"
   ]
  },
  {
   "cell_type": "code",
   "execution_count": null,
   "id": "9364660f-9a7b-486a-a644-617c165c48cf",
   "metadata": {},
   "outputs": [],
   "source": [
    "# creating X and y values for training\n",
    "X = df_space.drop( ['gross_revenue'], axis=1 )\n",
    "y = df_space['gross_revenue']\n",
    "\n",
    "# model definition\n",
    "rf_model = en.RandomForestRegressor( n_estimators=100, random_state=42 )\n",
    "\n",
    "# model training\n",
    "rf_model.fit( X, y )"
   ]
  },
  {
   "cell_type": "code",
   "execution_count": null,
   "id": "854cc9c2-9f71-4e3d-bc90-d1b553c7dc3b",
   "metadata": {},
   "outputs": [],
   "source": [
    "df_leaf = pd.DataFrame( rf_model.apply( X ) )\n",
    "df_leaf.head()"
   ]
  },
  {
   "cell_type": "code",
   "execution_count": null,
   "id": "1feb6d3b-3ade-469e-adee-bdb190f7d2d9",
   "metadata": {},
   "outputs": [],
   "source": [
    "df_leaf.shape"
   ]
  },
  {
   "cell_type": "code",
   "execution_count": null,
   "id": "29327e2d-d35a-43be-aeda-6c886c9ea58e",
   "metadata": {},
   "outputs": [],
   "source": [
    "reducer = umap.UMAP( random_state=42 )\n",
    "embedding = reducer.fit_transform( df_leaf )\n",
    "\n",
    "# embedding\n",
    "df_pca['embedding_x'] = embedding[:,0]\n",
    "df_pca['embedding_y'] = embedding[:,1]\n",
    "\n",
    "# plot UMAP\n",
    "sns.scatterplot( x='embedding_x', \n",
    "                 y='embedding_y',\n",
    "                 data=df_pca );"
   ]
  },
  {
   "cell_type": "code",
   "execution_count": null,
   "id": "4ee3c4c3-5e59-4ddc-af6a-d7bf22b68b6c",
   "metadata": {},
   "outputs": [],
   "source": []
  },
  {
   "cell_type": "code",
   "execution_count": null,
   "id": "8c5b741f-477a-46ff-ba74-e4f618a2366e",
   "metadata": {},
   "outputs": [],
   "source": []
  },
  {
   "cell_type": "code",
   "execution_count": null,
   "id": "b6bf0570-2e8a-4ae3-ab96-59bb3019c1a5",
   "metadata": {},
   "outputs": [],
   "source": []
  },
  {
   "cell_type": "code",
   "execution_count": null,
   "id": "6e9bf857-517c-4575-bb19-384c012aa8a8",
   "metadata": {},
   "outputs": [],
   "source": []
  },
  {
   "cell_type": "markdown",
   "id": "7f9cea50-28ac-4f08-9941-74bb6d1b24b4",
   "metadata": {},
   "source": [
    "# 5.0 Data Preparation"
   ]
  },
  {
   "cell_type": "code",
   "execution_count": null,
   "id": "673c8443-379b-42e5-bd8c-5928921eca90",
   "metadata": {},
   "outputs": [],
   "source": [
    "df5 = df4.copy()"
   ]
  },
  {
   "cell_type": "code",
   "execution_count": null,
   "id": "594194aa-b205-49d8-b5ac-ed8feb806363",
   "metadata": {},
   "outputs": [],
   "source": [
    "df5.columns"
   ]
  },
  {
   "cell_type": "markdown",
   "id": "52e92d13-022e-4d74-9829-b14ce5cd84cb",
   "metadata": {},
   "source": [
    "## 5.1 Standard Scaler"
   ]
  },
  {
   "cell_type": "code",
   "execution_count": null,
   "id": "95951448-e7ad-4ecd-9dd7-2a692402de67",
   "metadata": {},
   "outputs": [],
   "source": [
    "ss = pp.StandardScaler()\n",
    "\n",
    "df5['gross_revenue']      = ss.fit_transform( df5[['gross_revenue']] )\n",
    "df5['recency_days']       = ss.fit_transform( df5[['recency_days']] )\n",
    "df5['invoice_no']         = ss.fit_transform( df5[['invoice_no']] )\n",
    "df5['avg_ticket']         = ss.fit_transform( df5[['avg_ticket']] )\n",
    "df5['qtt_prod_purchased'] = ss.fit_transform( df5[['qtt_prod_purchased']] )\n",
    "df5['purchase_frequency'] = ss.fit_transform( df5[['purchase_frequency']] )\n",
    "df5['qtt_returns']        = ss.fit_transform( df5[['qtt_returns']] )\n",
    "df5['avg_bsize_quantity'] = ss.fit_transform( df5[['avg_bsize_quantity']] )\n",
    "df5['avg_bsize_variety']  = ss.fit_transform( df5[['avg_bsize_variety']] )"
   ]
  },
  {
   "cell_type": "markdown",
   "id": "df260c94-2c08-49d5-82fe-d5f80da50dbb",
   "metadata": {},
   "source": [
    "# 6.0 Feature Selection"
   ]
  },
  {
   "cell_type": "code",
   "execution_count": null,
   "id": "9c7e0b7b-aa02-4e2d-9654-caeee0d38047",
   "metadata": {},
   "outputs": [],
   "source": [
    "df6 = df5.copy()"
   ]
  },
  {
   "cell_type": "markdown",
   "id": "94a53af2-5648-4ae2-b23f-5f5d5cbe4d78",
   "metadata": {},
   "source": [
    "# 7.0 Hyperparameter Fine-Tuning"
   ]
  },
  {
   "cell_type": "code",
   "execution_count": null,
   "id": "48f4f479-6ae4-41ed-b089-c74fc71ec252",
   "metadata": {},
   "outputs": [],
   "source": [
    "df7 = df6.copy()\n",
    "\n",
    "X = df7.drop( columns='customer_id' )\n",
    "X.head()\n"
   ]
  },
  {
   "cell_type": "code",
   "execution_count": null,
   "id": "29dd521a-ed1f-4022-9b25-d59eef57fed4",
   "metadata": {},
   "outputs": [],
   "source": []
  },
  {
   "cell_type": "code",
   "execution_count": null,
   "id": "2d41fdd2-43c7-45d1-b317-3d2267ad6bc4",
   "metadata": {},
   "outputs": [],
   "source": []
  },
  {
   "cell_type": "code",
   "execution_count": null,
   "id": "5e8e8c1c-7114-4c98-8e5b-84d77bcf1d4f",
   "metadata": {},
   "outputs": [],
   "source": []
  },
  {
   "cell_type": "code",
   "execution_count": null,
   "id": "1659583e-ffe3-43de-90f4-7fc5e9b89ae2",
   "metadata": {},
   "outputs": [],
   "source": []
  },
  {
   "cell_type": "markdown",
   "id": "4c52ffc6-608f-4958-9f0e-8bf448e65754",
   "metadata": {},
   "source": [
    "## 7.1 Within-Cluster Sum of Square (WSS)"
   ]
  },
  {
   "cell_type": "code",
   "execution_count": null,
   "id": "2b10b81c-0af6-4838-887c-e2cd02c049e2",
   "metadata": {},
   "outputs": [],
   "source": [
    "clusters = [2, 3, 4, 5, 6, 7]\n",
    "kmeans = KElbowVisualizer( c.KMeans(), k=clusters, timing=False )\n",
    "kmeans.fit( X )\n",
    "kmeans.show();"
   ]
  },
  {
   "cell_type": "markdown",
   "id": "6eef1643-b6b3-44f4-84b1-ada71e224d1b",
   "metadata": {},
   "source": [
    "## 7.2 Silhouette Score"
   ]
  },
  {
   "cell_type": "code",
   "execution_count": null,
   "id": "fdffde55-9eb9-43bd-b103-ffaf5dc933ab",
   "metadata": {},
   "outputs": [],
   "source": [
    "clusters = [2, 3, 4, 5, 6, 7]\n",
    "kmeans = KElbowVisualizer( c.KMeans(), k=clusters, metric='silhouette', timing=False )\n",
    "kmeans.fit( X )\n",
    "kmeans.show();"
   ]
  },
  {
   "cell_type": "markdown",
   "id": "e063b61c-e551-41be-8604-9647ef591dd9",
   "metadata": {},
   "source": [
    "## 7.3 Silhouette Analysis"
   ]
  },
  {
   "cell_type": "code",
   "execution_count": null,
   "id": "e9199311-c37d-4a76-a9c5-46df9a7842c9",
   "metadata": {},
   "outputs": [],
   "source": [
    "clusters = [2, 3, 4, 5, 6, 7]\n",
    "fig, axes = plt.subplots(3, 2, figsize=(25, 18) )\n",
    "\n",
    "for k in clusters:\n",
    "    q, mod = divmod(k, 2)\n",
    "    \n",
    "    kmeans = c.KMeans( init='random', n_clusters=k, n_init=10, max_iter=100, random_state=42 )\n",
    "    visualizer = SilhouetteVisualizer( kmeans, colors='yellowbrick', ax=axes[q-1][mod])\n",
    "    visualizer.fit( X )\n",
    "    visualizer.finalize()"
   ]
  },
  {
   "cell_type": "markdown",
   "id": "bdf9f4a6-74f3-4cf3-a45b-66191111d3ee",
   "metadata": {},
   "source": [
    "# 8.0 Model Training"
   ]
  },
  {
   "cell_type": "code",
   "execution_count": null,
   "id": "0759650c-47a9-4ac0-864d-f8651a6742d1",
   "metadata": {},
   "outputs": [],
   "source": [
    "df8 = df7.copy()"
   ]
  },
  {
   "cell_type": "markdown",
   "id": "d64aa14a-e489-4896-9f17-21db34a4523c",
   "metadata": {},
   "source": [
    "## 8.1 K-Means"
   ]
  },
  {
   "cell_type": "code",
   "execution_count": null,
   "id": "5bfc554e-9859-478c-ac96-e561029c0a4e",
   "metadata": {},
   "outputs": [],
   "source": [
    "# model definition\n",
    "k=5\n",
    "kmeans = c.KMeans( init='random', n_clusters=k, n_init=10, max_iter=300, random_state=42 )\n",
    "\n",
    "# model traning\n",
    "kmeans.fit( X )\n",
    "\n",
    "# clustering\n",
    "labels = kmeans.labels_\n"
   ]
  },
  {
   "cell_type": "markdown",
   "id": "eb7271dc-3712-4355-abe6-dfbb1e5d0311",
   "metadata": {},
   "source": [
    "## 8.2 Cluster Validation"
   ]
  },
  {
   "cell_type": "code",
   "execution_count": null,
   "id": "055481ff-b50d-478d-b84e-b04fb5fd56c6",
   "metadata": {},
   "outputs": [],
   "source": [
    "# WSS - Within Cluster Sum of Square\n",
    "print(f'WSS : { kmeans.inertia_ } ' )\n",
    "\n",
    "## SS - Silhouette Score\n",
    "print(f'SS : { m.silhouette_score( X, labels, metric=\"euclidean\" ) } ' )"
   ]
  },
  {
   "cell_type": "markdown",
   "id": "e51da62f-71db-4687-8e54-6d1536232024",
   "metadata": {},
   "source": [
    "# 9.0 Cluster Analysis"
   ]
  },
  {
   "cell_type": "code",
   "execution_count": null,
   "id": "60aad2c8-45b2-4e0e-9b98-5ab585a563dd",
   "metadata": {},
   "outputs": [],
   "source": [
    "df9 = df8.copy()\n",
    "\n",
    "df9['cluster'] = labels\n",
    "df9.head()"
   ]
  },
  {
   "cell_type": "markdown",
   "id": "5dee5d1c-4c2b-4081-8cb1-a3d2f63027c0",
   "metadata": {},
   "source": [
    "## 9.1 Visualization Inspection"
   ]
  },
  {
   "cell_type": "code",
   "execution_count": null,
   "id": "602fbb8a-d65f-4d56-b880-68cd1819fb18",
   "metadata": {},
   "outputs": [],
   "source": [
    "#fig = px.scatter_3d( df10, x='recency_days', y='purchase_frequency', z='gross_revenue', color='cluster' )\n",
    "#fig.show()\n",
    "\n",
    "visualizer = SilhouetteVisualizer( kmeans, colors = 'yellowbrick' )\n",
    "visualizer.fit( X )\n",
    "visualizer.finalize()"
   ]
  },
  {
   "cell_type": "markdown",
   "id": "412e0a0b-4f4d-4341-88cd-b15251dc0853",
   "metadata": {},
   "source": [
    "## 9.2 2D Plot"
   ]
  },
  {
   "cell_type": "code",
   "execution_count": null,
   "id": "f35aefc1-8122-47c0-9972-66045a918bf6",
   "metadata": {},
   "outputs": [],
   "source": [
    "df_viz = df9.drop( 'customer_id', axis=1 )\n",
    "sns.pairplot( df_viz, hue='cluster');"
   ]
  },
  {
   "cell_type": "markdown",
   "id": "65de2f43-7cc9-4791-aed2-e4c90cfd975d",
   "metadata": {},
   "source": [
    "## 9.3 UMAP"
   ]
  },
  {
   "cell_type": "code",
   "execution_count": null,
   "id": "5b2f9a61-34a9-46c5-b19d-e134d6636e4c",
   "metadata": {},
   "outputs": [],
   "source": [
    "# pip install umap-learn\n",
    "\n",
    "reducer = umap.UMAP( n_neighbors=50, random_state=42 )\n",
    "embedding = reducer.fit_transform( X )\n",
    "\n",
    "# embedding\n",
    "df_viz['embedding_x'] = embedding[:,0]\n",
    "df_viz['embedding_y'] = embedding[:,1]\n",
    "\n",
    "# plot UMAP\n",
    "sns.scatterplot( x='embedding_x', \n",
    "                 y='embedding_y',\n",
    "                 hue='cluster',\n",
    "                 palette=sns.color_palette( 'hls', n_colors=len( df_viz['cluster'].unique() ) ),\n",
    "                 data=df_viz );"
   ]
  },
  {
   "cell_type": "markdown",
   "id": "f83a0711-c72a-418d-951b-9c1c792bc3b2",
   "metadata": {},
   "source": [
    "## 9.4 Cluster Profile"
   ]
  },
  {
   "cell_type": "code",
   "execution_count": null,
   "id": "82656d8e-d241-4957-a349-9f9659627088",
   "metadata": {},
   "outputs": [],
   "source": [
    "# Number of customer\n",
    "df_cluster = df9[['cluster', 'customer_id']].groupby( 'cluster').count().reset_index().rename( columns = { 'customer_id' : 'count' } )\n",
    "df_cluster['perc_customer'] = round( df_cluster['count'] / df_cluster['count'].sum() * 100, 2)\n",
    "\n",
    "# Average Recency Days\n",
    "df_cluster_recency = df9[['cluster', 'recency_days']].groupby( 'cluster').mean().reset_index()\n",
    "df_cluster_recency['recency_days'] = round( df_cluster_recency['recency_days'], 2)\n",
    "\n",
    "# Average Purchase Frequeccy\n",
    "df_cluster_frequency = df9[['cluster', 'invoice_no']].groupby( 'cluster').mean().reset_index()\n",
    "df_cluster_frequency['invoice_no'] = round( df_cluster_frequency['invoice_no'], 2)\n",
    "\n",
    "# Average Gross Revenue\n",
    "df_cluster_monetary = df9[['cluster', 'gross_revenue']].groupby( 'cluster').mean().reset_index()\n",
    "df_cluster_monetary['gross_revenue'] = round( df_cluster_monetary['gross_revenue'], 2)\n",
    "\n",
    "# Average Ticket\n",
    "df_cluster_ticket = df9[['cluster', 'avg_ticket']].groupby( 'cluster').mean().reset_index()\n",
    "df_cluster_ticket['avg_ticket'] = round( df_cluster_ticket['avg_ticket'], 2)\n",
    "\n",
    "# Merging datasets\n",
    "df_cluster = pd.merge( df_cluster, df_cluster_recency,   how='inner', on='cluster' )\n",
    "df_cluster = pd.merge( df_cluster, df_cluster_frequency, how='inner', on='cluster' )\n",
    "df_cluster = pd.merge( df_cluster, df_cluster_monetary,  how='inner', on='cluster' )\n",
    "df_cluster = pd.merge( df_cluster, df_cluster_ticket,    how='inner', on='cluster' )\n",
    "df_cluster.head()\n"
   ]
  },
  {
   "cell_type": "code",
   "execution_count": null,
   "id": "84122123-37da-4896-9729-5a739119fffe",
   "metadata": {},
   "outputs": [],
   "source": []
  }
 ],
 "metadata": {
  "kernelspec": {
   "display_name": "Python 3 (ipykernel)",
   "language": "python",
   "name": "python3"
  },
  "language_info": {
   "codemirror_mode": {
    "name": "ipython",
    "version": 3
   },
   "file_extension": ".py",
   "mimetype": "text/x-python",
   "name": "python",
   "nbconvert_exporter": "python",
   "pygments_lexer": "ipython3",
   "version": "3.11.5"
  }
 },
 "nbformat": 4,
 "nbformat_minor": 5
}
